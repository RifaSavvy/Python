{
 "cells": [
  {
   "cell_type": "code",
   "execution_count": 23,
   "id": "7ee28ff1-eb6b-4233-b309-c9f7c76a9b2e",
   "metadata": {},
   "outputs": [
    {
     "name": "stdout",
     "output_type": "stream",
     "text": [
      "1\n",
      "2\n",
      "3\n",
      "4\n",
      "5\n",
      "6\n",
      "7\n",
      "8\n",
      "9\n",
      "10\n"
     ]
    }
   ],
   "source": [
    "x=1\n",
    "while x<=10:\n",
    "    print(x)\n",
    "    x+=1"
   ]
  },
  {
   "cell_type": "code",
   "execution_count": 11,
   "id": "390013a9-076d-4446-8487-3855d3aed5c9",
   "metadata": {},
   "outputs": [
    {
     "name": "stdin",
     "output_type": "stream",
     "text": [
      "Enter a number from 1 to 10 2\n"
     ]
    },
    {
     "name": "stdout",
     "output_type": "stream",
     "text": [
      "2\n",
      "4\n",
      "6\n",
      "8\n",
      "10\n",
      "12\n",
      "14\n",
      "16\n",
      "18\n",
      "20\n"
     ]
    }
   ],
   "source": [
    "x=int(input(\"Enter a number from 1 to 10\"))\n",
    "a=1\n",
    "while a<=10:\n",
    "    print(x*a)\n",
    "    a+=1"
   ]
  },
  {
   "cell_type": "code",
   "execution_count": 14,
   "id": "7b81eb1f-2217-4e01-a1b4-365221a06375",
   "metadata": {},
   "outputs": [
    {
     "name": "stdout",
     "output_type": "stream",
     "text": [
      "\n",
      "*\n",
      "**\n",
      "***\n",
      "****\n",
      "*****\n",
      "******\n",
      "*******\n",
      "********\n",
      "*********\n"
     ]
    }
   ],
   "source": [
    "for i in range(10):\n",
    "    for j in range(i):\n",
    "        print(\"*\",end=\"\")\n",
    "    print(\"\")"
   ]
  },
  {
   "cell_type": "code",
   "execution_count": 16,
   "id": "69c4b1c3-8684-4a7c-9096-b7fc8cd37b1f",
   "metadata": {
    "scrolled": true
   },
   "outputs": [
    {
     "name": "stdout",
     "output_type": "stream",
     "text": [
      "Apple\n",
      "Mango\n",
      "Orange\n",
      "Grapes\n"
     ]
    }
   ],
   "source": [
    "fruits=\"Apple\",\"Mango\",\"Orange\",\"Grapes\"\n",
    "for i in fruits:\n",
    "    print(i)"
   ]
  },
  {
   "cell_type": "code",
   "execution_count": 19,
   "id": "fe0dde13-37a8-4afe-b87f-e0dcf2b8c3bf",
   "metadata": {},
   "outputs": [
    {
     "name": "stdout",
     "output_type": "stream",
     "text": [
      "Mark of Rifa is 100\n",
      "Mark of Roshan is 0\n",
      "Mark of Sabariii is 10\n"
     ]
    }
   ],
   "source": [
    "d={\"Rifa\":100,\"Roshan\":0,\"Sabariii\":10}\n",
    "for i in d:\n",
    "    print(\"Mark of\",i,\"is\",d[i])"
   ]
  },
  {
   "cell_type": "code",
   "execution_count": 20,
   "id": "72c6c534-408c-49b4-b3de-33eac3eb5494",
   "metadata": {},
   "outputs": [
    {
     "name": "stdout",
     "output_type": "stream",
     "text": [
      "6\n"
     ]
    }
   ],
   "source": [
    "x=(2,4,6,8,10)\n",
    "print(x[2])"
   ]
  },
  {
   "cell_type": "code",
   "execution_count": 21,
   "id": "4397dfe6-de6c-41be-aa58-0141b2bc8828",
   "metadata": {},
   "outputs": [
    {
     "name": "stdout",
     "output_type": "stream",
     "text": [
      "{1, 2, 3, 4, 5}\n"
     ]
    }
   ],
   "source": [
    "x={1,2,4,3,2,5,2,5,2,4,2,4,2,4,2,1,1}\n",
    "print(x)\n"
   ]
  },
  {
   "cell_type": "code",
   "execution_count": 22,
   "id": "9606773a-3060-417e-930b-042cac294897",
   "metadata": {},
   "outputs": [
    {
     "name": "stdout",
     "output_type": "stream",
     "text": [
      "Python\n",
      "ramming\n",
      "yhnPormig\n",
      "gnimmargorP nohtyP\n"
     ]
    }
   ],
   "source": [
    "s=\"Python Programming\"\n",
    "print(s[0:6:1])\n",
    "print(s[11::])\n",
    "print(s[1::2])\n",
    "print(s[::-1])"
   ]
  },
  {
   "cell_type": "code",
   "execution_count": 24,
   "id": "ac0096f5-c023-4677-b321-4afddca8e1c6",
   "metadata": {},
   "outputs": [
    {
     "name": "stdout",
     "output_type": "stream",
     "text": [
      "[1, 4, 9, 16, 25, 36, 49, 64, 81, 100]\n"
     ]
    }
   ],
   "source": [
    "z=[d*d for d in range(1,11)]\n",
    "print(z)"
   ]
  },
  {
   "cell_type": "code",
   "execution_count": 25,
   "id": "033697d8-abc8-40d9-b7da-e177a01d9830",
   "metadata": {},
   "outputs": [
    {
     "name": "stdout",
     "output_type": "stream",
     "text": [
      "[2, 4, 6, 8, 10, 12, 14, 16, 18, 20, 22, 24, 26, 28, 30, 32, 34, 36, 38, 40, 42, 44, 46, 48]\n"
     ]
    }
   ],
   "source": [
    "g=[s for s in range(2,50,2)]\n",
    "print(g)"
   ]
  },
  {
   "cell_type": "code",
   "execution_count": 26,
   "id": "305e623f-2599-4202-adb3-4314207f76c7",
   "metadata": {},
   "outputs": [
    {
     "name": "stdout",
     "output_type": "stream",
     "text": [
      "['Rifaa', 'Ria', 'Rhea', 'Riffff', 'Amy']\n",
      "['Riffff']\n"
     ]
    }
   ],
   "source": [
    "f=[\"Rifaa\",\"Ria\",\"Rhea\",\"Riffff\",\"Amy\"]\n",
    "h=[i for i in f if len(i)>5]\n",
    "print(f)\n",
    "print(h)"
   ]
  },
  {
   "cell_type": "code",
   "execution_count": 27,
   "id": "6f6dc7ef-f69d-4e4a-a49f-bb2a327ebacd",
   "metadata": {},
   "outputs": [
    {
     "name": "stdin",
     "output_type": "stream",
     "text": [
      "Enter a number:  5\n"
     ]
    },
    {
     "name": "stdout",
     "output_type": "stream",
     "text": [
      "5 is a prime number\n",
      "5 is a prime number\n",
      "5 is a prime number\n"
     ]
    }
   ],
   "source": [
    "def prime(x):\n",
    "    fl=0\n",
    "    for i in range(2,x):\n",
    "        if x%i==0:\n",
    "            fl=1\n",
    "        if fl!=0:\n",
    "            print(x,\"is not a prime number\")\n",
    "        else:\n",
    "            print(x,\"is a prime number\")\n",
    "c=int(input(\"Enter a number: \"))\n",
    "prime(c)"
   ]
  },
  {
   "cell_type": "code",
   "execution_count": 28,
   "id": "ac5dd1b3-2310-427c-9981-65de45bf5aad",
   "metadata": {},
   "outputs": [
    {
     "name": "stdin",
     "output_type": "stream",
     "text": [
      "Enter a number:  3\n"
     ]
    },
    {
     "name": "stdout",
     "output_type": "stream",
     "text": [
      "Factorial:  6\n"
     ]
    }
   ],
   "source": [
    "def fact(x):\n",
    "    if(x==1):\n",
    "        return 1;\n",
    "    else:\n",
    "        return x*fact(x-1)\n",
    "\n",
    "ft=int(input(\"Enter a number: \"))\n",
    "print(\"Factorial: \",fact(ft))"
   ]
  },
  {
   "cell_type": "code",
   "execution_count": 30,
   "id": "c26bb132-93f7-43a3-9471-40b226c3e2c1",
   "metadata": {},
   "outputs": [
    {
     "name": "stdout",
     "output_type": "stream",
     "text": [
      "[12, 22, 31, 48, 62, 100]\n",
      "Sum of the List is:  275\n"
     ]
    }
   ],
   "source": [
    "def lst(x):\n",
    "    s=0\n",
    "    for i in x:\n",
    "        s+=i\n",
    "    return s\n",
    "l2=[12,22,31,48,62,100]\n",
    "print(l2)\n",
    "print(\"Sum of the List is: \",lst(l2))"
   ]
  },
  {
   "cell_type": "code",
   "execution_count": null,
   "id": "03a973ca-5198-46cc-b500-7838a3bf84a1",
   "metadata": {},
   "outputs": [],
   "source": []
  }
 ],
 "metadata": {
  "kernelspec": {
   "display_name": "Python 3 (ipykernel)",
   "language": "python",
   "name": "python3"
  },
  "language_info": {
   "codemirror_mode": {
    "name": "ipython",
    "version": 3
   },
   "file_extension": ".py",
   "mimetype": "text/x-python",
   "name": "python",
   "nbconvert_exporter": "python",
   "pygments_lexer": "ipython3",
   "version": "3.10.12"
  }
 },
 "nbformat": 4,
 "nbformat_minor": 5
}
