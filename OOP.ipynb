{
 "cells": [
  {
   "cell_type": "code",
   "execution_count": 10,
   "id": "09181a21-9520-48e6-8135-15b7729e8dc4",
   "metadata": {},
   "outputs": [
    {
     "name": "stdout",
     "output_type": "stream",
     "text": [
      "A 1\n"
     ]
    },
    {
     "ename": "TypeError",
     "evalue": "student.set_grade() takes 1 positional argument but 2 were given",
     "output_type": "error",
     "traceback": [
      "\u001b[0;31m---------------------------------------------------------------------------\u001b[0m",
      "\u001b[0;31mTypeError\u001b[0m                                 Traceback (most recent call last)",
      "Cell \u001b[0;32mIn[10], line 23\u001b[0m\n\u001b[1;32m     21\u001b[0m \u001b[38;5;28mprint\u001b[39m(s1\u001b[38;5;241m.\u001b[39mname,s1\u001b[38;5;241m.\u001b[39mgrade)\n\u001b[1;32m     22\u001b[0m s3 \u001b[38;5;241m=\u001b[39m student(\u001b[38;5;124m\"\u001b[39m\u001b[38;5;124mC\u001b[39m\u001b[38;5;124m\"\u001b[39m,\u001b[38;5;241m3\u001b[39m)\n\u001b[0;32m---> 23\u001b[0m \u001b[43ms3\u001b[49m\u001b[38;5;241;43m.\u001b[39;49m\u001b[43mset_grade\u001b[49m\u001b[43m(\u001b[49m\u001b[38;5;241;43m3\u001b[39;49m\u001b[43m)\u001b[49m\n\u001b[1;32m     24\u001b[0m \u001b[38;5;28mprint\u001b[39m(s3\u001b[38;5;241m.\u001b[39mget_grade())\n",
      "\u001b[0;31mTypeError\u001b[0m: student.set_grade() takes 1 positional argument but 2 were given"
     ]
    }
   ],
   "source": [
    "class student:\n",
    "    def __init__(self,name,grade):\n",
    "        self.name=name\n",
    "        self.grade=grade\n",
    "\n",
    "    def get_name(self):\n",
    "        return self.name\n",
    "\n",
    "    def get_grade(self):\n",
    "        return self.grade\n",
    "\n",
    "    def set_name(self_name):\n",
    "        self.name=name\n",
    "\n",
    "    def set_grade(self_grade):\n",
    "        self.grade=grade\n",
    "\n",
    "s1= student(\"A\",1)\n",
    "s2= student(\"C\",6)\n",
    "\n",
    "print(s1.name,s1.grade)\n",
    "            "
   ]
  },
  {
   "cell_type": "code",
   "execution_count": 8,
   "id": "8cea32b5-c14f-4941-a5e4-15d52f6ac3ff",
   "metadata": {},
   "outputs": [
    {
     "ename": "TypeError",
     "evalue": "student.set_grade() takes 1 positional argument but 2 were given",
     "output_type": "error",
     "traceback": [
      "\u001b[0;31m---------------------------------------------------------------------------\u001b[0m",
      "\u001b[0;31mTypeError\u001b[0m                                 Traceback (most recent call last)",
      "Cell \u001b[0;32mIn[8], line 2\u001b[0m\n\u001b[1;32m      1\u001b[0m s3 \u001b[38;5;241m=\u001b[39m student(\u001b[38;5;124m\"\u001b[39m\u001b[38;5;124mC\u001b[39m\u001b[38;5;124m\"\u001b[39m,\u001b[38;5;241m3\u001b[39m)\n\u001b[0;32m----> 2\u001b[0m \u001b[43ms2\u001b[49m\u001b[38;5;241;43m.\u001b[39;49m\u001b[43mset_grade\u001b[49m\u001b[43m(\u001b[49m\u001b[38;5;241;43m3\u001b[39;49m\u001b[43m)\u001b[49m\n\u001b[1;32m      3\u001b[0m \u001b[38;5;28mprint\u001b[39m(s3\u001b[38;5;241m.\u001b[39mget_grade())\n",
      "\u001b[0;31mTypeError\u001b[0m: student.set_grade() takes 1 positional argument but 2 were given"
     ]
    }
   ],
   "source": []
  },
  {
   "cell_type": "code",
   "execution_count": 8,
   "id": "3867faeb-7106-46da-999b-0e019ceb45df",
   "metadata": {},
   "outputs": [
    {
     "ename": "TypeError",
     "evalue": "student.set_grade() takes 1 positional argument but 2 were given",
     "output_type": "error",
     "traceback": [
      "\u001b[0;31m---------------------------------------------------------------------------\u001b[0m",
      "\u001b[0;31mTypeError\u001b[0m                                 Traceback (most recent call last)",
      "Cell \u001b[0;32mIn[8], line 2\u001b[0m\n\u001b[1;32m      1\u001b[0m s3 \u001b[38;5;241m=\u001b[39m student(\u001b[38;5;124m\"\u001b[39m\u001b[38;5;124mC\u001b[39m\u001b[38;5;124m\"\u001b[39m,\u001b[38;5;241m3\u001b[39m)\n\u001b[0;32m----> 2\u001b[0m \u001b[43ms2\u001b[49m\u001b[38;5;241;43m.\u001b[39;49m\u001b[43mset_grade\u001b[49m\u001b[43m(\u001b[49m\u001b[38;5;241;43m3\u001b[39;49m\u001b[43m)\u001b[49m\n\u001b[1;32m      3\u001b[0m \u001b[38;5;28mprint\u001b[39m(s3\u001b[38;5;241m.\u001b[39mget_grade())\n",
      "\u001b[0;31mTypeError\u001b[0m: student.set_grade() takes 1 positional argument but 2 were given"
     ]
    }
   ],
   "source": [
    "s3 = student(\"C\",3)\n",
    "s3.set_grade(3)\n",
    "print(s3.get_grade())"
   ]
  },
  {
   "cell_type": "code",
   "execution_count": null,
   "id": "f175589c-1a55-4d69-9ad6-dacc01532093",
   "metadata": {},
   "outputs": [],
   "source": []
  }
 ],
 "metadata": {
  "kernelspec": {
   "display_name": "Python 3 (ipykernel)",
   "language": "python",
   "name": "python3"
  },
  "language_info": {
   "codemirror_mode": {
    "name": "ipython",
    "version": 3
   },
   "file_extension": ".py",
   "mimetype": "text/x-python",
   "name": "python",
   "nbconvert_exporter": "python",
   "pygments_lexer": "ipython3",
   "version": "3.10.12"
  }
 },
 "nbformat": 4,
 "nbformat_minor": 5
}
